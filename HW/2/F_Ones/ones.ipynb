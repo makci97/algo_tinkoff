{
 "cells": [
  {
   "cell_type": "code",
   "execution_count": 1,
   "metadata": {
    "collapsed": true
   },
   "outputs": [],
   "source": [
    "import numpy as np"
   ]
  },
  {
   "cell_type": "code",
   "execution_count": 2,
   "metadata": {
    "collapsed": true
   },
   "outputs": [],
   "source": [
    "size = 4\n",
    "B = np.array([\n",
    "    1,1,0,0,\n",
    "    0,0,1,1,\n",
    "    1,1,0,0,\n",
    "    0,0,1,0\n",
    "]).reshape((size, size))"
   ]
  },
  {
   "cell_type": "code",
   "execution_count": 3,
   "metadata": {},
   "outputs": [
    {
     "data": {
      "text/plain": [
       "array([[1, 1, 0, 0],\n",
       "       [0, 0, 1, 1],\n",
       "       [1, 1, 0, 0],\n",
       "       [0, 0, 1, 0]])"
      ]
     },
     "execution_count": 3,
     "metadata": {},
     "output_type": "execute_result"
    }
   ],
   "source": [
    "B"
   ]
  },
  {
   "cell_type": "code",
   "execution_count": 4,
   "metadata": {
    "collapsed": true
   },
   "outputs": [],
   "source": [
    "def log_matrix_deg(a, n):\n",
    "    if n == 0:\n",
    "        return np.eye(a.shape[0])\n",
    "    if n == 1:\n",
    "        return a\n",
    "\n",
    "    if n % 2 == 0:\n",
    "        return log_matrix_deg(np.dot(a, a), int(n / 2))\n",
    "    else:\n",
    "        return np.dot(a, log_matrix_deg(np.dot(a, a), int((n - 1) / 2)))"
   ]
  },
  {
   "cell_type": "code",
   "execution_count": 8,
   "metadata": {},
   "outputs": [
    {
     "data": {
      "text/plain": [
       "7"
      ]
     },
     "execution_count": 8,
     "metadata": {},
     "output_type": "execute_result"
    }
   ],
   "source": [
    "n = 3\n",
    "np.sum(np.dot(log_matrix_deg(B, n - 2), np.ones(size)), dtype=int)"
   ]
  },
  {
   "cell_type": "code",
   "execution_count": null,
   "metadata": {
    "collapsed": true
   },
   "outputs": [],
   "source": [
    "import numpy as np\n",
    "\n",
    "\n",
    "def log_matrix_deg(a, n):\n",
    "    if n == 0:\n",
    "        return np.eye(a.shape[0])\n",
    "    if n == 1:\n",
    "        return a\n",
    "\n",
    "    if n % 2 == 0:\n",
    "        return log_matrix_deg(np.dot(a, a), int(n / 2))\n",
    "    else:\n",
    "        return np.dot(a, log_matrix_deg(np.dot(a, a), int((n - 1) / 2)))\n",
    "    \n",
    "    \n",
    "if __name__ == '__main__':\n",
    "    size = 4\n",
    "    B = np.array([\n",
    "        1,1,0,0,\n",
    "        0,0,1,1,\n",
    "        1,1,0,0,\n",
    "        0,0,1,0\n",
    "    ]).reshape((size, size))\n",
    "    n = int(input().stripe())\n",
    "    print(np.sum(np.dot(log_matrix_deg(B, n - 2), np.ones(size)), dtype=int))"
   ]
  },
  {
   "cell_type": "code",
   "execution_count": null,
   "metadata": {
    "collapsed": true
   },
   "outputs": [],
   "source": []
  },
  {
   "cell_type": "code",
   "execution_count": null,
   "metadata": {
    "collapsed": true
   },
   "outputs": [],
   "source": []
  },
  {
   "cell_type": "code",
   "execution_count": null,
   "metadata": {
    "collapsed": true
   },
   "outputs": [],
   "source": []
  },
  {
   "cell_type": "code",
   "execution_count": null,
   "metadata": {
    "collapsed": true
   },
   "outputs": [],
   "source": []
  },
  {
   "cell_type": "code",
   "execution_count": 57,
   "metadata": {
    "collapsed": true
   },
   "outputs": [],
   "source": [
    "size = 10\n",
    "A = np.array([1 if np.abs(i - j) <= 1 else 0 for i in range(size) for j in range(size)]).reshape((size, size))"
   ]
  },
  {
   "cell_type": "code",
   "execution_count": 58,
   "metadata": {},
   "outputs": [
    {
     "data": {
      "text/plain": [
       "array([[1, 1, 0, 0, 0, 0, 0, 0, 0, 0],\n",
       "       [1, 1, 1, 0, 0, 0, 0, 0, 0, 0],\n",
       "       [0, 1, 1, 1, 0, 0, 0, 0, 0, 0],\n",
       "       [0, 0, 1, 1, 1, 0, 0, 0, 0, 0],\n",
       "       [0, 0, 0, 1, 1, 1, 0, 0, 0, 0],\n",
       "       [0, 0, 0, 0, 1, 1, 1, 0, 0, 0],\n",
       "       [0, 0, 0, 0, 0, 1, 1, 1, 0, 0],\n",
       "       [0, 0, 0, 0, 0, 0, 1, 1, 1, 0],\n",
       "       [0, 0, 0, 0, 0, 0, 0, 1, 1, 1],\n",
       "       [0, 0, 0, 0, 0, 0, 0, 0, 1, 1]])"
      ]
     },
     "execution_count": 58,
     "metadata": {},
     "output_type": "execute_result"
    }
   ],
   "source": [
    "A "
   ]
  },
  {
   "cell_type": "code",
   "execution_count": 59,
   "metadata": {},
   "outputs": [
    {
     "data": {
      "text/plain": [
       "array([[2, 2, 1, 0, 0, 0, 0, 0, 0, 0],\n",
       "       [2, 3, 2, 1, 0, 0, 0, 0, 0, 0],\n",
       "       [1, 2, 3, 2, 1, 0, 0, 0, 0, 0],\n",
       "       [0, 1, 2, 3, 2, 1, 0, 0, 0, 0],\n",
       "       [0, 0, 1, 2, 3, 2, 1, 0, 0, 0],\n",
       "       [0, 0, 0, 1, 2, 3, 2, 1, 0, 0],\n",
       "       [0, 0, 0, 0, 1, 2, 3, 2, 1, 0],\n",
       "       [0, 0, 0, 0, 0, 1, 2, 3, 2, 1],\n",
       "       [0, 0, 0, 0, 0, 0, 1, 2, 3, 2],\n",
       "       [0, 0, 0, 0, 0, 0, 0, 1, 2, 2]])"
      ]
     },
     "execution_count": 59,
     "metadata": {},
     "output_type": "execute_result"
    }
   ],
   "source": [
    "a_deg(A, 2)"
   ]
  },
  {
   "cell_type": "code",
   "execution_count": 17,
   "metadata": {
    "collapsed": true
   },
   "outputs": [],
   "source": [
    "import numpy as np\n",
    "from sys import stdin\n",
    "\n",
    "\n",
    "def dot_n3(a, b):\n",
    "    assert a.shape[1] == b.shape[0]\n",
    "    c = np.zeros((a.shape[0], b.shape[1]), dtype=int)\n",
    "    for i in range(a.shape[0]):\n",
    "        for k in range(b.shape[1]):\n",
    "            c[i, k] = np.sum(a[i, j] * b[j, k] for j in range(a.shape[1])) % 9\n",
    "    return c\n",
    "\n",
    "\n",
    "def get_deg(size):\n",
    "    return int(2**np.ceil(np.log(size) / np.log(2)))\n",
    "\n",
    "\n",
    "def size2deg(a):\n",
    "    assert a.shape[0] == a.shape[1]\n",
    "    size = get_deg(a.shape[0])\n",
    "    matrix = np.zeros((size, size), dtype=int)\n",
    "    matrix[:a.shape[0], :a.shape[0]] = a\n",
    "    return matrix\n",
    "\n",
    "\n",
    "def strassen(a, b):\n",
    "    assert a.shape[0] == a.shape[1] and a.shape[0] == get_deg(a.shape[0])\n",
    "    assert b.shape[0] == b.shape[1] and b.shape[0] == get_deg(b.shape[0])\n",
    "    assert a.shape[0] == b.shape[0]\n",
    "    size = int(a.shape[0] / 2)\n",
    "    if size <= 8:\n",
    "        return dot_n3(a, b)\n",
    "    \n",
    "    # a submatrixes\n",
    "    a11 = a[:size, :size]\n",
    "    a12 = a[:size, size:]\n",
    "    a21 = a[size:, :size]\n",
    "    a22 = a[size:, size:]\n",
    "#     print(a11, a12, a21, a22, sep='\\n')\n",
    "    \n",
    "    # b submatrixes\n",
    "    b11 = b[:size, :size]\n",
    "    b12 = b[:size, size:]\n",
    "    b21 = b[size:, :size]\n",
    "    b22 = b[size:, size:]\n",
    "#     print(b11, b12, b21, b22, sep='\\n')\n",
    "\n",
    "    # help matrix\n",
    "    p1 = strassen(a11 + a22, b11 + b22)\n",
    "    p2 = strassen(a21 + a22, b11)\n",
    "    p3 = strassen(a11, b12 - b22)\n",
    "    p4 = strassen(a22, b21 - b11)\n",
    "    p5 = strassen(a11 + a12, b22)\n",
    "    p6 = strassen(a21 - a11, b11 + b12)\n",
    "    p7 = strassen(a12 - a22, b21 + b22)\n",
    "    \n",
    "    # answer\n",
    "    c11 = p1 + p4 - p5 + p7\n",
    "    c12 = p3 + p5\n",
    "    c21 = p2 + p4\n",
    "    c22 = p1 - p2 + p3 + p6\n",
    "    \n",
    "    c = np.concatenate([\n",
    "        np.concatenate([c11, c12], axis=1),\n",
    "        np.concatenate([c21, c22], axis=1)\n",
    "    ], axis=0)\n",
    "    return c\n",
    "\n",
    "\n",
    "def strip_matrix(a, size):\n",
    "    return a[:size, :size]\n",
    "\n",
    "\n",
    "def fast_matrix_deg(a, n):\n",
    "    if n == 0:\n",
    "        return np.eye(a.shape[0])\n",
    "    if n == 1:\n",
    "        return a\n",
    "\n",
    "    if n % 2 == 0:\n",
    "        return fast_matrix_deg(strassen(a, a), int(n / 2))\n",
    "    else:\n",
    "        return strassen(a, fast_matrix_deg(strassen(a, a), int((n - 1) / 2)))\n",
    "\n",
    "\n",
    "def a_deg(a, deg):\n",
    "    assert a.shape[0] == a.shape[1]\n",
    "    n = a.shape[0]\n",
    "    a_wide = size2deg(a)\n",
    "    a_deg = fast_matrix_deg(a_wide, deg)\n",
    "    a_strip = strip_matrix(a_deg, n)\n",
    "    return a_strip"
   ]
  },
  {
   "cell_type": "code",
   "execution_count": 60,
   "metadata": {},
   "outputs": [
    {
     "data": {
      "text/plain": [
       "26"
      ]
     },
     "execution_count": 60,
     "metadata": {},
     "output_type": "execute_result"
    }
   ],
   "source": [
    "np.sum(np.dot(a_deg(A, 1), np.array([1 for i in range(size)]))[1:])"
   ]
  },
  {
   "cell_type": "code",
   "execution_count": 41,
   "metadata": {
    "collapsed": true
   },
   "outputs": [],
   "source": [
    "size = 4\n",
    "B = np.array([\n",
    "    1,1,0,0,\n",
    "    0,0,1,1,\n",
    "    1,1,0,0,\n",
    "    0,0,1,0\n",
    "]).reshape((size, size))"
   ]
  },
  {
   "cell_type": "code",
   "execution_count": 51,
   "metadata": {},
   "outputs": [
    {
     "ename": "RecursionError",
     "evalue": "maximum recursion depth exceeded in comparison",
     "output_type": "error",
     "traceback": [
      "\u001b[0;31m---------------------------------------------------------------------------\u001b[0m",
      "\u001b[0;31mRecursionError\u001b[0m                            Traceback (most recent call last)",
      "\u001b[0;32m<ipython-input-51-dff479647d88>\u001b[0m in \u001b[0;36m<module>\u001b[0;34m()\u001b[0m\n\u001b[1;32m      1\u001b[0m \u001b[0mn\u001b[0m \u001b[0;34m=\u001b[0m \u001b[0;36m1\u001b[0m\u001b[0;34m\u001b[0m\u001b[0m\n\u001b[0;32m----> 2\u001b[0;31m \u001b[0mnp\u001b[0m\u001b[0;34m.\u001b[0m\u001b[0msum\u001b[0m\u001b[0;34m(\u001b[0m\u001b[0mnp\u001b[0m\u001b[0;34m.\u001b[0m\u001b[0mdot\u001b[0m\u001b[0;34m(\u001b[0m\u001b[0ma_deg\u001b[0m\u001b[0;34m(\u001b[0m\u001b[0mB\u001b[0m\u001b[0;34m,\u001b[0m \u001b[0mn\u001b[0m \u001b[0;34m-\u001b[0m \u001b[0;36m2\u001b[0m\u001b[0;34m)\u001b[0m\u001b[0;34m,\u001b[0m \u001b[0mnp\u001b[0m\u001b[0;34m.\u001b[0m\u001b[0mones\u001b[0m\u001b[0;34m(\u001b[0m\u001b[0msize\u001b[0m\u001b[0;34m)\u001b[0m\u001b[0;34m)\u001b[0m\u001b[0;34m,\u001b[0m \u001b[0mdtype\u001b[0m\u001b[0;34m=\u001b[0m\u001b[0mint\u001b[0m\u001b[0;34m)\u001b[0m\u001b[0;34m\u001b[0m\u001b[0m\n\u001b[0m",
      "\u001b[0;32m<ipython-input-17-c738e43b36e2>\u001b[0m in \u001b[0;36ma_deg\u001b[0;34m(a, deg)\u001b[0m\n\u001b[1;32m     88\u001b[0m     \u001b[0mn\u001b[0m \u001b[0;34m=\u001b[0m \u001b[0ma\u001b[0m\u001b[0;34m.\u001b[0m\u001b[0mshape\u001b[0m\u001b[0;34m[\u001b[0m\u001b[0;36m0\u001b[0m\u001b[0;34m]\u001b[0m\u001b[0;34m\u001b[0m\u001b[0m\n\u001b[1;32m     89\u001b[0m     \u001b[0ma_wide\u001b[0m \u001b[0;34m=\u001b[0m \u001b[0msize2deg\u001b[0m\u001b[0;34m(\u001b[0m\u001b[0ma\u001b[0m\u001b[0;34m)\u001b[0m\u001b[0;34m\u001b[0m\u001b[0m\n\u001b[0;32m---> 90\u001b[0;31m     \u001b[0ma_deg\u001b[0m \u001b[0;34m=\u001b[0m \u001b[0mfast_matrix_deg\u001b[0m\u001b[0;34m(\u001b[0m\u001b[0ma_wide\u001b[0m\u001b[0;34m,\u001b[0m \u001b[0mdeg\u001b[0m\u001b[0;34m)\u001b[0m\u001b[0;34m\u001b[0m\u001b[0m\n\u001b[0m\u001b[1;32m     91\u001b[0m     \u001b[0ma_strip\u001b[0m \u001b[0;34m=\u001b[0m \u001b[0mstrip_matrix\u001b[0m\u001b[0;34m(\u001b[0m\u001b[0ma_deg\u001b[0m\u001b[0;34m,\u001b[0m \u001b[0mn\u001b[0m\u001b[0;34m)\u001b[0m\u001b[0;34m\u001b[0m\u001b[0m\n\u001b[1;32m     92\u001b[0m     \u001b[0;32mreturn\u001b[0m \u001b[0ma_strip\u001b[0m\u001b[0;34m\u001b[0m\u001b[0m\n",
      "\u001b[0;32m<ipython-input-17-c738e43b36e2>\u001b[0m in \u001b[0;36mfast_matrix_deg\u001b[0;34m(a, n)\u001b[0m\n\u001b[1;32m     79\u001b[0m         \u001b[0;32mreturn\u001b[0m \u001b[0mfast_matrix_deg\u001b[0m\u001b[0;34m(\u001b[0m\u001b[0mstrassen\u001b[0m\u001b[0;34m(\u001b[0m\u001b[0ma\u001b[0m\u001b[0;34m,\u001b[0m \u001b[0ma\u001b[0m\u001b[0;34m)\u001b[0m\u001b[0;34m,\u001b[0m \u001b[0mint\u001b[0m\u001b[0;34m(\u001b[0m\u001b[0mn\u001b[0m\u001b[0;34m/\u001b[0m\u001b[0;36m2\u001b[0m\u001b[0;34m)\u001b[0m\u001b[0;34m)\u001b[0m\u001b[0;34m\u001b[0m\u001b[0m\n\u001b[1;32m     80\u001b[0m     \u001b[0;32melse\u001b[0m\u001b[0;34m:\u001b[0m\u001b[0;34m\u001b[0m\u001b[0m\n\u001b[0;32m---> 81\u001b[0;31m         \u001b[0;32mreturn\u001b[0m \u001b[0mstrassen\u001b[0m\u001b[0;34m(\u001b[0m\u001b[0ma\u001b[0m\u001b[0;34m,\u001b[0m \u001b[0mfast_matrix_deg\u001b[0m\u001b[0;34m(\u001b[0m\u001b[0mstrassen\u001b[0m\u001b[0;34m(\u001b[0m\u001b[0ma\u001b[0m\u001b[0;34m,\u001b[0m \u001b[0ma\u001b[0m\u001b[0;34m)\u001b[0m\u001b[0;34m,\u001b[0m \u001b[0mint\u001b[0m\u001b[0;34m(\u001b[0m\u001b[0;34m(\u001b[0m\u001b[0mn\u001b[0m \u001b[0;34m-\u001b[0m \u001b[0;36m1\u001b[0m\u001b[0;34m)\u001b[0m\u001b[0;34m/\u001b[0m\u001b[0;36m2\u001b[0m\u001b[0;34m)\u001b[0m\u001b[0;34m)\u001b[0m\u001b[0;34m)\u001b[0m\u001b[0;34m\u001b[0m\u001b[0m\n\u001b[0m\u001b[1;32m     82\u001b[0m \u001b[0;34m\u001b[0m\u001b[0m\n\u001b[1;32m     83\u001b[0m \u001b[0;34m\u001b[0m\u001b[0m\n",
      "... last 1 frames repeated, from the frame below ...\n",
      "\u001b[0;32m<ipython-input-17-c738e43b36e2>\u001b[0m in \u001b[0;36mfast_matrix_deg\u001b[0;34m(a, n)\u001b[0m\n\u001b[1;32m     79\u001b[0m         \u001b[0;32mreturn\u001b[0m \u001b[0mfast_matrix_deg\u001b[0m\u001b[0;34m(\u001b[0m\u001b[0mstrassen\u001b[0m\u001b[0;34m(\u001b[0m\u001b[0ma\u001b[0m\u001b[0;34m,\u001b[0m \u001b[0ma\u001b[0m\u001b[0;34m)\u001b[0m\u001b[0;34m,\u001b[0m \u001b[0mint\u001b[0m\u001b[0;34m(\u001b[0m\u001b[0mn\u001b[0m\u001b[0;34m/\u001b[0m\u001b[0;36m2\u001b[0m\u001b[0;34m)\u001b[0m\u001b[0;34m)\u001b[0m\u001b[0;34m\u001b[0m\u001b[0m\n\u001b[1;32m     80\u001b[0m     \u001b[0;32melse\u001b[0m\u001b[0;34m:\u001b[0m\u001b[0;34m\u001b[0m\u001b[0m\n\u001b[0;32m---> 81\u001b[0;31m         \u001b[0;32mreturn\u001b[0m \u001b[0mstrassen\u001b[0m\u001b[0;34m(\u001b[0m\u001b[0ma\u001b[0m\u001b[0;34m,\u001b[0m \u001b[0mfast_matrix_deg\u001b[0m\u001b[0;34m(\u001b[0m\u001b[0mstrassen\u001b[0m\u001b[0;34m(\u001b[0m\u001b[0ma\u001b[0m\u001b[0;34m,\u001b[0m \u001b[0ma\u001b[0m\u001b[0;34m)\u001b[0m\u001b[0;34m,\u001b[0m \u001b[0mint\u001b[0m\u001b[0;34m(\u001b[0m\u001b[0;34m(\u001b[0m\u001b[0mn\u001b[0m \u001b[0;34m-\u001b[0m \u001b[0;36m1\u001b[0m\u001b[0;34m)\u001b[0m\u001b[0;34m/\u001b[0m\u001b[0;36m2\u001b[0m\u001b[0;34m)\u001b[0m\u001b[0;34m)\u001b[0m\u001b[0;34m)\u001b[0m\u001b[0;34m\u001b[0m\u001b[0m\n\u001b[0m\u001b[1;32m     82\u001b[0m \u001b[0;34m\u001b[0m\u001b[0m\n\u001b[1;32m     83\u001b[0m \u001b[0;34m\u001b[0m\u001b[0m\n",
      "\u001b[0;31mRecursionError\u001b[0m: maximum recursion depth exceeded in comparison"
     ]
    }
   ],
   "source": [
    "n = 1\n",
    "np.sum(np.dot(a_deg(B, n - 2), np.ones(size)), dtype=int)"
   ]
  },
  {
   "cell_type": "code",
   "execution_count": null,
   "metadata": {
    "collapsed": true
   },
   "outputs": [],
   "source": []
  },
  {
   "cell_type": "code",
   "execution_count": null,
   "metadata": {
    "collapsed": true
   },
   "outputs": [],
   "source": []
  },
  {
   "cell_type": "code",
   "execution_count": 26,
   "metadata": {},
   "outputs": [
    {
     "data": {
      "text/plain": [
       "array([2, 3, 4, 4, 4, 4, 4, 4, 3, 2])"
      ]
     },
     "execution_count": 26,
     "metadata": {},
     "output_type": "execute_result"
    }
   ],
   "source": [
    "np.dot(a_deg(A, 2), np.array([1 for i in range(size)]))"
   ]
  },
  {
   "cell_type": "code",
   "execution_count": 28,
   "metadata": {},
   "outputs": [
    {
     "data": {
      "text/plain": [
       "array([2, 3, 4, 4, 4, 4, 4, 4, 3, 2])"
      ]
     },
     "execution_count": 28,
     "metadata": {},
     "output_type": "execute_result"
    }
   ],
   "source": [
    "np.dot(a_deg(A, 2), np.array([1 for i in range(size)]))"
   ]
  },
  {
   "cell_type": "code",
   "execution_count": 22,
   "metadata": {},
   "outputs": [
    {
     "data": {
      "text/plain": [
       "array([0, 1, 1, 1, 1, 1, 1, 1, 1, 1])"
      ]
     },
     "execution_count": 22,
     "metadata": {},
     "output_type": "execute_result"
    }
   ],
   "source": [
    "np.array([0 if i == 0 else 1 for i in range(size)])"
   ]
  },
  {
   "cell_type": "code",
   "execution_count": null,
   "metadata": {
    "collapsed": true
   },
   "outputs": [],
   "source": []
  },
  {
   "cell_type": "code",
   "execution_count": null,
   "metadata": {
    "collapsed": true
   },
   "outputs": [],
   "source": []
  },
  {
   "cell_type": "code",
   "execution_count": null,
   "metadata": {
    "collapsed": true
   },
   "outputs": [],
   "source": []
  },
  {
   "cell_type": "code",
   "execution_count": null,
   "metadata": {
    "collapsed": true
   },
   "outputs": [],
   "source": []
  },
  {
   "cell_type": "code",
   "execution_count": null,
   "metadata": {
    "collapsed": true
   },
   "outputs": [],
   "source": []
  },
  {
   "cell_type": "code",
   "execution_count": null,
   "metadata": {
    "collapsed": true
   },
   "outputs": [],
   "source": []
  },
  {
   "cell_type": "code",
   "execution_count": null,
   "metadata": {
    "collapsed": true
   },
   "outputs": [],
   "source": []
  },
  {
   "cell_type": "code",
   "execution_count": null,
   "metadata": {
    "collapsed": true
   },
   "outputs": [],
   "source": []
  },
  {
   "cell_type": "code",
   "execution_count": null,
   "metadata": {
    "collapsed": true
   },
   "outputs": [],
   "source": []
  },
  {
   "cell_type": "code",
   "execution_count": null,
   "metadata": {
    "collapsed": true
   },
   "outputs": [],
   "source": []
  },
  {
   "cell_type": "code",
   "execution_count": null,
   "metadata": {
    "collapsed": true
   },
   "outputs": [],
   "source": []
  },
  {
   "cell_type": "code",
   "execution_count": null,
   "metadata": {
    "collapsed": true
   },
   "outputs": [],
   "source": []
  },
  {
   "cell_type": "code",
   "execution_count": null,
   "metadata": {
    "collapsed": true
   },
   "outputs": [],
   "source": []
  },
  {
   "cell_type": "code",
   "execution_count": null,
   "metadata": {
    "collapsed": true
   },
   "outputs": [],
   "source": []
  },
  {
   "cell_type": "code",
   "execution_count": null,
   "metadata": {
    "collapsed": true
   },
   "outputs": [],
   "source": []
  },
  {
   "cell_type": "code",
   "execution_count": 3,
   "metadata": {
    "collapsed": true
   },
   "outputs": [],
   "source": [
    "size_i = 3\n",
    "size_j = 4\n",
    "size_k = 2\n",
    "\n",
    "a = np.random.randint(0, 8, size=size_i*size_j).reshape((size_i, size_j))\n",
    "b = np.random.randint(0, 8, size=size_j*size_k).reshape((size_j, size_k))"
   ]
  },
  {
   "cell_type": "code",
   "execution_count": 4,
   "metadata": {},
   "outputs": [
    {
     "name": "stdout",
     "output_type": "stream",
     "text": [
      "[[1 3 2 1]\n",
      " [6 7 5 3]\n",
      " [6 4 2 5]]\n",
      "[[1 2]\n",
      " [6 3]\n",
      " [0 1]\n",
      " [1 5]]\n"
     ]
    }
   ],
   "source": [
    "print(a)\n",
    "print(b)"
   ]
  },
  {
   "cell_type": "code",
   "execution_count": 5,
   "metadata": {},
   "outputs": [
    {
     "name": "stdout",
     "output_type": "stream",
     "text": [
      "[[20 18]\n",
      " [51 53]\n",
      " [35 51]]\n"
     ]
    }
   ],
   "source": [
    "print(np.dot(a, b))"
   ]
  },
  {
   "cell_type": "code",
   "execution_count": 17,
   "metadata": {
    "collapsed": true
   },
   "outputs": [],
   "source": [
    "def dot_n3(a, b):\n",
    "    assert a.shape[1] == b.shape[0]\n",
    "    c = np.zeros((a.shape[0], b.shape[1]), dtype=int)\n",
    "    for i in range(a.shape[0]):\n",
    "        for k in range(b.shape[1]):\n",
    "            c[i, k] = np.sum(a[i, j] * b[j, k] for j in range(a.shape[1]))\n",
    "    return c"
   ]
  },
  {
   "cell_type": "code",
   "execution_count": 18,
   "metadata": {},
   "outputs": [
    {
     "name": "stdout",
     "output_type": "stream",
     "text": [
      "[[20 18]\n",
      " [51 53]\n",
      " [35 51]]\n"
     ]
    }
   ],
   "source": [
    "print(dot_n3(a, b))"
   ]
  },
  {
   "cell_type": "code",
   "execution_count": 70,
   "metadata": {
    "collapsed": true
   },
   "outputs": [],
   "source": [
    "def get_deg(size):\n",
    "    return int(2**np.ceil(np.log(size)/np.log(2)))"
   ]
  },
  {
   "cell_type": "code",
   "execution_count": 71,
   "metadata": {},
   "outputs": [
    {
     "data": {
      "text/plain": [
       "128"
      ]
     },
     "execution_count": 71,
     "metadata": {},
     "output_type": "execute_result"
    }
   ],
   "source": [
    "get_deg(100)"
   ]
  },
  {
   "cell_type": "code",
   "execution_count": 44,
   "metadata": {
    "collapsed": true
   },
   "outputs": [],
   "source": [
    "def size2deg(a):\n",
    "    assert a.shape[0] == a.shape[1]\n",
    "    size = get_deg(a.shape[0])\n",
    "    matrix = np.zeros((size, size), dtype=int)\n",
    "    matrix[:a.shape[0], :a.shape[0]] = a\n",
    "    return matrix"
   ]
  },
  {
   "cell_type": "code",
   "execution_count": 33,
   "metadata": {
    "collapsed": true
   },
   "outputs": [],
   "source": [
    "d = np.random.randint(0, 8, size=size_i*size_i).reshape((size_i, size_i))"
   ]
  },
  {
   "cell_type": "code",
   "execution_count": 34,
   "metadata": {},
   "outputs": [
    {
     "name": "stdout",
     "output_type": "stream",
     "text": [
      "[[0 7 1]\n",
      " [5 3 1]\n",
      " [6 7 4]]\n"
     ]
    }
   ],
   "source": [
    "print(d)"
   ]
  },
  {
   "cell_type": "code",
   "execution_count": 35,
   "metadata": {},
   "outputs": [
    {
     "data": {
      "text/plain": [
       "array([[0, 7, 1, 0],\n",
       "       [5, 3, 1, 0],\n",
       "       [6, 7, 4, 0],\n",
       "       [0, 0, 0, 0]])"
      ]
     },
     "execution_count": 35,
     "metadata": {},
     "output_type": "execute_result"
    }
   ],
   "source": [
    "size2deg(d)"
   ]
  },
  {
   "cell_type": "code",
   "execution_count": null,
   "metadata": {
    "collapsed": true
   },
   "outputs": [],
   "source": []
  },
  {
   "cell_type": "code",
   "execution_count": 39,
   "metadata": {
    "collapsed": true
   },
   "outputs": [],
   "source": [
    "a = np.random.randint(0, 8, size=size_i*size_i).reshape((size_i, size_i))\n",
    "b = np.random.randint(0, 8, size=size_i*size_i).reshape((size_i, size_i))\n",
    "aa = size2deg(a)\n",
    "bb = size2deg(b)"
   ]
  },
  {
   "cell_type": "code",
   "execution_count": 40,
   "metadata": {},
   "outputs": [
    {
     "name": "stdout",
     "output_type": "stream",
     "text": [
      "[[6 6 3]\n",
      " [7 6 0]\n",
      " [3 7 4]]\n",
      "[[4 1 2]\n",
      " [3 5 0]\n",
      " [4 4 2]]\n"
     ]
    }
   ],
   "source": [
    "print(a)\n",
    "print(b)"
   ]
  },
  {
   "cell_type": "code",
   "execution_count": 41,
   "metadata": {},
   "outputs": [
    {
     "name": "stdout",
     "output_type": "stream",
     "text": [
      "[[6 6 3 0]\n",
      " [7 6 0 0]\n",
      " [3 7 4 0]\n",
      " [0 0 0 0]]\n",
      "[[4 1 2 0]\n",
      " [3 5 0 0]\n",
      " [4 4 2 0]\n",
      " [0 0 0 0]]\n"
     ]
    }
   ],
   "source": [
    "print(aa)\n",
    "print(bb)"
   ]
  },
  {
   "cell_type": "code",
   "execution_count": 57,
   "metadata": {},
   "outputs": [
    {
     "data": {
      "text/plain": [
       "array([[54, 48, 18,  0],\n",
       "       [46, 37, 14,  0],\n",
       "       [49, 54, 14,  0],\n",
       "       [ 0,  0,  0,  0]])"
      ]
     },
     "execution_count": 57,
     "metadata": {},
     "output_type": "execute_result"
    }
   ],
   "source": [
    "np.dot(aa, bb)"
   ]
  },
  {
   "cell_type": "code",
   "execution_count": 62,
   "metadata": {
    "collapsed": true
   },
   "outputs": [],
   "source": [
    "def strassen(a, b):\n",
    "    assert a.shape[0] == a.shape[1] and a.shape[0] == get_deg(a.shape[0])\n",
    "    assert b.shape[0] == b.shape[1] and b.shape[0] == get_deg(b.shape[0])\n",
    "    assert a.shape[0] == b.shape[0]\n",
    "    size = int(a.shape[0]/2)\n",
    "    if size <= 8:\n",
    "        return dot_n3(a, b)\n",
    "    \n",
    "    # a submatrixes\n",
    "    a11 = a[:size, :size]\n",
    "    a12 = a[:size, size:]\n",
    "    a21 = a[size:, :size]\n",
    "    a22 = a[size:, size:]\n",
    "#     print(a11, a12, a21, a22, sep='\\n')\n",
    "    \n",
    "    # b submatrixes\n",
    "    b11 = b[:size, :size]\n",
    "    b12 = b[:size, size:]\n",
    "    b21 = b[size:, :size]\n",
    "    b22 = b[size:, size:]\n",
    "#     print(b11, b12, b21, b22, sep='\\n')\n",
    "\n",
    "    # help matrix\n",
    "    p1 = strassen(a11 + a22, b11 + b22)\n",
    "    p2 = strassen(a21 + a22, b11)\n",
    "    p3 = strassen(a11, b12 - b22)\n",
    "    p4 = strassen(a22, b21 - b11)\n",
    "    p5 = strassen(a11 + a12, b22)\n",
    "    p6 = strassen(a21 - a11, b11 + b12)\n",
    "    p7 = strassen(a12 - a22, b21 + b22)\n",
    "    \n",
    "    # answer\n",
    "    c11 = p1 + p4 - p5 + p7\n",
    "    c12 = p3 + p5\n",
    "    c21 = p2 + p4\n",
    "    c22 = p1 - p2 + p3 + p6\n",
    "    \n",
    "    c = np.concatenate([\n",
    "        np.concatenate([c11, c12], axis=1),\n",
    "        np.concatenate([c21, c22], axis=1)\n",
    "    ], axis=0)\n",
    "    return c"
   ]
  },
  {
   "cell_type": "markdown",
   "metadata": {},
   "source": [
    "strassen test"
   ]
  },
  {
   "cell_type": "code",
   "execution_count": 77,
   "metadata": {},
   "outputs": [
    {
     "data": {
      "text/plain": [
       "True"
      ]
     },
     "execution_count": 77,
     "metadata": {},
     "output_type": "execute_result"
    }
   ],
   "source": [
    "size_i = 300\n",
    "a = np.random.randint(0, 8, size=size_i*size_i).reshape((size_i, size_i))\n",
    "b = np.random.randint(0, 8, size=size_i*size_i).reshape((size_i, size_i))\n",
    "aa = size2deg(a)\n",
    "bb = size2deg(b)\n",
    "np.array_equal(strassen(aa, bb), np.dot(aa, bb))"
   ]
  },
  {
   "cell_type": "code",
   "execution_count": 78,
   "metadata": {},
   "outputs": [
    {
     "name": "stdout",
     "output_type": "stream",
     "text": [
      "CPU times: user 274 ms, sys: 3.76 ms, total: 277 ms\n",
      "Wall time: 275 ms\n"
     ]
    }
   ],
   "source": [
    "%%time\n",
    "r = np.dot(aa, bb)"
   ]
  },
  {
   "cell_type": "code",
   "execution_count": 79,
   "metadata": {},
   "outputs": [
    {
     "name": "stdout",
     "output_type": "stream",
     "text": [
      "CPU times: user 37.4 s, sys: 139 ms, total: 37.6 s\n",
      "Wall time: 37.7 s\n"
     ]
    }
   ],
   "source": [
    "%%time\n",
    "r = strassen(aa, bb)"
   ]
  },
  {
   "cell_type": "code",
   "execution_count": 80,
   "metadata": {},
   "outputs": [
    {
     "name": "stdout",
     "output_type": "stream",
     "text": [
      "CPU times: user 1min 4s, sys: 276 ms, total: 1min 4s\n",
      "Wall time: 1min 5s\n"
     ]
    }
   ],
   "source": [
    "%%time\n",
    "r = dot_n3(aa, bb)"
   ]
  },
  {
   "cell_type": "code",
   "execution_count": null,
   "metadata": {
    "collapsed": true
   },
   "outputs": [],
   "source": []
  },
  {
   "cell_type": "code",
   "execution_count": null,
   "metadata": {
    "collapsed": true
   },
   "outputs": [],
   "source": []
  },
  {
   "cell_type": "code",
   "execution_count": 82,
   "metadata": {
    "collapsed": true
   },
   "outputs": [],
   "source": [
    "def strip_matrix(a, size):\n",
    "    return a[:size, :size]"
   ]
  },
  {
   "cell_type": "code",
   "execution_count": 85,
   "metadata": {
    "collapsed": true
   },
   "outputs": [],
   "source": [
    "size_i = 3\n",
    "a = np.random.randint(0, 8, size=size_i*size_i).reshape((size_i, size_i))\n",
    "b = np.random.randint(0, 8, size=size_i*size_i).reshape((size_i, size_i))\n",
    "aa = size2deg(a)\n",
    "bb = size2deg(b)"
   ]
  },
  {
   "cell_type": "code",
   "execution_count": 86,
   "metadata": {},
   "outputs": [
    {
     "data": {
      "text/plain": [
       "array([[1, 0, 6, 0],\n",
       "       [6, 4, 4, 0],\n",
       "       [4, 5, 2, 0],\n",
       "       [0, 0, 0, 0]])"
      ]
     },
     "execution_count": 86,
     "metadata": {},
     "output_type": "execute_result"
    }
   ],
   "source": [
    "aa"
   ]
  },
  {
   "cell_type": "code",
   "execution_count": 87,
   "metadata": {},
   "outputs": [
    {
     "data": {
      "text/plain": [
       "array([[1, 0, 6],\n",
       "       [6, 4, 4],\n",
       "       [4, 5, 2]])"
      ]
     },
     "execution_count": 87,
     "metadata": {},
     "output_type": "execute_result"
    }
   ],
   "source": [
    "strip_matrix(aa, a.shape[0])"
   ]
  },
  {
   "cell_type": "code",
   "execution_count": 88,
   "metadata": {
    "collapsed": true
   },
   "outputs": [],
   "source": [
    "size_i = 5\n",
    "a = np.random.randint(-20, 20, size=size_i*size_i).reshape((size_i, size_i))"
   ]
  },
  {
   "cell_type": "code",
   "execution_count": 89,
   "metadata": {},
   "outputs": [
    {
     "data": {
      "text/plain": [
       "array([[ 16, -20, -10,  11, -11],\n",
       "       [  5, -19,   3,  -7, -10],\n",
       "       [  0,  16,  18, -11, -16],\n",
       "       [-14, -17, -20,  13,  17],\n",
       "       [ -4, -15,  -3,  -7, -13]])"
      ]
     },
     "execution_count": 89,
     "metadata": {},
     "output_type": "execute_result"
    }
   ],
   "source": [
    "a"
   ]
  },
  {
   "cell_type": "code",
   "execution_count": 93,
   "metadata": {
    "collapsed": true
   },
   "outputs": [],
   "source": [
    "def matix2Z(a, Z=9):\n",
    "    shape = a.shape\n",
    "    return np.array(list(map(\n",
    "        lambda x: x%Z, a\n",
    "    ))).reshape(shape)"
   ]
  },
  {
   "cell_type": "code",
   "execution_count": 94,
   "metadata": {},
   "outputs": [
    {
     "data": {
      "text/plain": [
       "array([[7, 7, 8, 2, 7],\n",
       "       [5, 8, 3, 2, 8],\n",
       "       [0, 7, 0, 7, 2],\n",
       "       [4, 1, 7, 4, 8],\n",
       "       [5, 3, 6, 2, 5]])"
      ]
     },
     "execution_count": 94,
     "metadata": {},
     "output_type": "execute_result"
    }
   ],
   "source": [
    "matix2Z(a, Z=9)"
   ]
  },
  {
   "cell_type": "code",
   "execution_count": 96,
   "metadata": {
    "collapsed": true
   },
   "outputs": [],
   "source": [
    "def fast_matrix_deg(a, n):\n",
    "    if n == 0:\n",
    "        return np.eye(a.shape[0])\n",
    "    if n == 1:\n",
    "        return a\n",
    "    \n",
    "    if n % 2 == 0:\n",
    "        return fast_matrix_deg(strassen(a, a), int(n/2))\n",
    "    else:\n",
    "        return strassen(a, fast_matrix_deg(strassen(a, a), int((n - 1)/2)))\n",
    "    \n",
    "\n",
    "def do_task(a):\n",
    "    assert a.shape[0] == a.shape[1]\n",
    "    n = a.shape[0]\n",
    "    a_wide = size2deg(a)\n",
    "    a_deg = fast_matrix_deg(a_wide, n)\n",
    "    a_strip = strip_matrix(a_deg, n)\n",
    "    a_z9 = matix2Z(a_strip, Z=9)\n",
    "    return a_z9"
   ]
  },
  {
   "cell_type": "code",
   "execution_count": 97,
   "metadata": {
    "collapsed": true
   },
   "outputs": [],
   "source": [
    "size_i = 5\n",
    "a = np.random.randint(-20, 20, size=size_i*size_i).reshape((size_i, size_i))"
   ]
  },
  {
   "cell_type": "code",
   "execution_count": 98,
   "metadata": {},
   "outputs": [
    {
     "data": {
      "text/plain": [
       "array([[-17,  -4, -18, -12,  -1],\n",
       "       [  8, -16,  -9,  -1,   2],\n",
       "       [ -4,  -9,  -6, -14, -15],\n",
       "       [ 10,   6,   9,  -1, -13],\n",
       "       [ 10, -10,  14,   5,  -8]])"
      ]
     },
     "execution_count": 98,
     "metadata": {},
     "output_type": "execute_result"
    }
   ],
   "source": [
    "a"
   ]
  },
  {
   "cell_type": "code",
   "execution_count": 100,
   "metadata": {
    "collapsed": true
   },
   "outputs": [],
   "source": [
    "res = a\n",
    "for i in range(5-1):\n",
    "    res = np.dot(res, a)"
   ]
  },
  {
   "cell_type": "code",
   "execution_count": 102,
   "metadata": {},
   "outputs": [
    {
     "data": {
      "text/plain": [
       "array([[0, 6, 6, 6, 4],\n",
       "       [3, 2, 0, 7, 7],\n",
       "       [3, 1, 0, 8, 0],\n",
       "       [1, 2, 3, 0, 1],\n",
       "       [5, 2, 4, 0, 8]])"
      ]
     },
     "execution_count": 102,
     "metadata": {},
     "output_type": "execute_result"
    }
   ],
   "source": [
    "matix2Z(res, Z=9)"
   ]
  },
  {
   "cell_type": "code",
   "execution_count": 99,
   "metadata": {},
   "outputs": [
    {
     "data": {
      "text/plain": [
       "array([[0, 6, 6, 6, 4],\n",
       "       [3, 2, 0, 7, 7],\n",
       "       [3, 1, 0, 8, 0],\n",
       "       [1, 2, 3, 0, 1],\n",
       "       [5, 2, 4, 0, 8]])"
      ]
     },
     "execution_count": 99,
     "metadata": {},
     "output_type": "execute_result"
    }
   ],
   "source": [
    "do_task(a)"
   ]
  },
  {
   "cell_type": "code",
   "execution_count": null,
   "metadata": {
    "collapsed": true
   },
   "outputs": [],
   "source": [
    "from sys import stdin\n",
    "\n",
    "def read_matrix():\n",
    "    a = list(map(int, stdin.readline().rstrip().split()))\n",
    "    n = len(a)\n",
    "    for _ in range(n - 1):\n",
    "        a.extend(list(map(int, stdin.readline().rstrip().split())))\n",
    "        \n",
    "    return np.array(a, dtype=int).reshape((n, n))\n",
    "\n",
    "\n"
   ]
  },
  {
   "cell_type": "code",
   "execution_count": null,
   "metadata": {
    "collapsed": true
   },
   "outputs": [],
   "source": []
  },
  {
   "cell_type": "code",
   "execution_count": null,
   "metadata": {
    "collapsed": true
   },
   "outputs": [],
   "source": []
  },
  {
   "cell_type": "code",
   "execution_count": null,
   "metadata": {
    "collapsed": true
   },
   "outputs": [],
   "source": []
  },
  {
   "cell_type": "code",
   "execution_count": null,
   "metadata": {
    "collapsed": true
   },
   "outputs": [],
   "source": []
  },
  {
   "cell_type": "code",
   "execution_count": null,
   "metadata": {
    "collapsed": true
   },
   "outputs": [],
   "source": []
  },
  {
   "cell_type": "code",
   "execution_count": 53,
   "metadata": {},
   "outputs": [
    {
     "data": {
      "text/plain": [
       "array([[6, 6, 3, 0],\n",
       "       [7, 6, 0, 0],\n",
       "       [3, 7, 4, 0],\n",
       "       [0, 0, 0, 0],\n",
       "       [6, 6, 3, 0],\n",
       "       [7, 6, 0, 0],\n",
       "       [3, 7, 4, 0],\n",
       "       [0, 0, 0, 0]])"
      ]
     },
     "execution_count": 53,
     "metadata": {},
     "output_type": "execute_result"
    }
   ],
   "source": [
    "np.concatenate([aa, aa], axis=0)"
   ]
  },
  {
   "cell_type": "code",
   "execution_count": 50,
   "metadata": {},
   "outputs": [
    {
     "name": "stdout",
     "output_type": "stream",
     "text": [
      "[[6 6]\n",
      " [7 6]]\n",
      "[[3 0]\n",
      " [0 0]]\n",
      "[[3 7]\n",
      " [0 0]]\n",
      "[[4 0]\n",
      " [0 0]]\n",
      "[[4 1]\n",
      " [3 5]]\n",
      "[[2 0]\n",
      " [0 0]]\n",
      "[[4 4]\n",
      " [0 0]]\n",
      "[[2 0]\n",
      " [0 0]]\n"
     ]
    }
   ],
   "source": [
    "sh(aa, bb)"
   ]
  },
  {
   "cell_type": "code",
   "execution_count": 37,
   "metadata": {},
   "outputs": [
    {
     "name": "stdout",
     "output_type": "stream",
     "text": [
      "[[5 6 1]\n",
      " [1 0 7]\n",
      " [6 4 0]]\n",
      "[[2 0 6]\n",
      " [5 5 7]\n",
      " [6 1 3]]\n"
     ]
    }
   ],
   "source": [
    "print(a)\n",
    "print(b)"
   ]
  },
  {
   "cell_type": "code",
   "execution_count": null,
   "metadata": {
    "collapsed": true
   },
   "outputs": [],
   "source": []
  },
  {
   "cell_type": "code",
   "execution_count": 164,
   "metadata": {},
   "outputs": [
    {
     "name": "stderr",
     "output_type": "stream",
     "text": [
      "/Users/maxim/miniconda3/lib/python3.6/site-packages/ipykernel_launcher.py:14: RuntimeWarning: divide by zero encountered in log\n",
      "  \n"
     ]
    }
   ],
   "source": [
    "import numpy as np\n",
    "from sys import stdin\n",
    "\n",
    "def dot_n3(a, b):\n",
    "    assert a.shape[1] == b.shape[0]\n",
    "    c = np.zeros((a.shape[0], b.shape[1]), dtype=int)\n",
    "    for i in range(a.shape[0]):\n",
    "        for k in range(b.shape[1]):\n",
    "            c[i, k] = np.sum(a[i, j] * b[j, k] for j in range(a.shape[1])) % 9\n",
    "    return c\n",
    "\n",
    "\n",
    "def get_deg(size):\n",
    "    return int(2**np.ceil(np.log(size)/np.log(2)))\n",
    "\n",
    "\n",
    "def size2deg(a):\n",
    "    assert a.shape[0] == a.shape[1]\n",
    "    size = get_deg(a.shape[0])\n",
    "    matrix = np.zeros((size, size), dtype=int)\n",
    "    matrix[:a.shape[0], :a.shape[0]] = a\n",
    "    return matrix\n",
    "\n",
    "\n",
    "def strassen(a, b):\n",
    "    assert a.shape[0] == a.shape[1] and a.shape[0] == get_deg(a.shape[0])\n",
    "    assert b.shape[0] == b.shape[1] and b.shape[0] == get_deg(b.shape[0])\n",
    "    assert a.shape[0] == b.shape[0]\n",
    "    size = int(a.shape[0]/2)\n",
    "    if size <= 8:\n",
    "        return dot_n3(a, b)\n",
    "    \n",
    "    # a submatrixes\n",
    "    a11 = a[:size, :size]\n",
    "    a12 = a[:size, size:]\n",
    "    a21 = a[size:, :size]\n",
    "    a22 = a[size:, size:]\n",
    "#     print(a11, a12, a21, a22, sep='\\n')\n",
    "    \n",
    "    # b submatrixes\n",
    "    b11 = b[:size, :size]\n",
    "    b12 = b[:size, size:]\n",
    "    b21 = b[size:, :size]\n",
    "    b22 = b[size:, size:]\n",
    "#     print(b11, b12, b21, b22, sep='\\n')\n",
    "\n",
    "    # help matrix\n",
    "    p1 = strassen(a11 + a22, b11 + b22)\n",
    "    p2 = strassen(a21 + a22, b11)\n",
    "    p3 = strassen(a11, b12 - b22)\n",
    "    p4 = strassen(a22, b21 - b11)\n",
    "    p5 = strassen(a11 + a12, b22)\n",
    "    p6 = strassen(a21 - a11, b11 + b12)\n",
    "    p7 = strassen(a12 - a22, b21 + b22)\n",
    "    \n",
    "    # answer\n",
    "    c11 = p1 + p4 - p5 + p7\n",
    "    c12 = p3 + p5\n",
    "    c21 = p2 + p4\n",
    "    c22 = p1 - p2 + p3 + p6\n",
    "    \n",
    "    c = np.concatenate([\n",
    "        np.concatenate([c11, c12], axis=1),\n",
    "        np.concatenate([c21, c22], axis=1)\n",
    "    ], axis=0)\n",
    "    return c\n",
    "\n",
    "\n",
    "def strip_matrix(a, size):\n",
    "    return a[:size, :size]\n",
    "\n",
    "\n",
    "def matix2Z(a, Z=9):\n",
    "    shape = a.shape\n",
    "    return np.array(list(map(\n",
    "        lambda x: x%Z, a\n",
    "    )), dtype=int).reshape(shape)\n",
    "\n",
    "\n",
    "def fast_matrix_deg(a, n):\n",
    "    if n == 0:\n",
    "        return np.eye(a.shape[0])\n",
    "    if n == 1:\n",
    "        return a\n",
    "    \n",
    "    if n % 2 == 0:\n",
    "        return fast_matrix_deg(strassen(a, a), int(n/2))\n",
    "    else:\n",
    "        return strassen(a, fast_matrix_deg(strassen(a, a), int((n - 1)/2)))\n",
    "\n",
    "\n",
    "def read_matrix():\n",
    "    a = list(map(int, stdin.readline().rstrip().split()))\n",
    "    n = len(a)\n",
    "    for _ in range(n - 1):\n",
    "        a.extend(list(map(int, stdin.readline().rstrip().split())))\n",
    "        \n",
    "    return np.array(a, dtype=int).reshape((n, n))\n",
    "\n",
    "\n",
    "def print_matrix(a):\n",
    "    for line in a:\n",
    "        print(*line, sep=' ')\n",
    "\n",
    "\n",
    "def do_task(a=None):\n",
    "    if a is None:\n",
    "        a = read_matrix()\n",
    "    assert a.shape[0] == a.shape[1]\n",
    "    n = a.shape[0]\n",
    "    a_wide = size2deg(a)\n",
    "    a_deg = fast_matrix_deg(a_wide, n)\n",
    "    a_strip = strip_matrix(a_deg, n)\n",
    "    a_z9 = matix2Z(a_strip, Z=9)\n",
    "    return a_z9\n",
    "\n",
    "\n",
    "a = do_task()\n",
    "print_matrix(a)"
   ]
  },
  {
   "cell_type": "code",
   "execution_count": null,
   "metadata": {
    "collapsed": true
   },
   "outputs": [],
   "source": []
  },
  {
   "cell_type": "code",
   "execution_count": null,
   "metadata": {
    "collapsed": true
   },
   "outputs": [],
   "source": []
  },
  {
   "cell_type": "code",
   "execution_count": 165,
   "metadata": {
    "collapsed": true
   },
   "outputs": [],
   "source": [
    "with open('a.txt', 'r') as f:\n",
    "    a = list(map(int, f.readline().rstrip().split()))\n",
    "    n = len(a)\n",
    "    for _ in range(n - 1):\n",
    "        a.extend(list(map(int, f.readline().rstrip().split())))\n",
    "        \n",
    "    a = np.array(a, dtype=int).reshape((n, n))"
   ]
  },
  {
   "cell_type": "code",
   "execution_count": 166,
   "metadata": {},
   "outputs": [
    {
     "data": {
      "text/plain": [
       "array([[0, 1, 1, 2, 3, 4, 5, 7, 7, 4],\n",
       "       [3, 6, 0, 5, 7, 4, 3, 1, 6, 7],\n",
       "       [7, 5, 5, 4, 7, 4, 3, 4, 5, 7],\n",
       "       [4, 4, 7, 7, 5, 4, 3, 3, 2, 1],\n",
       "       [4, 5, 0, 1, 6, 7, 0, 5, 1, 3],\n",
       "       [2, 2, 4, 0, 4, 5, 2, 5, 7, 0],\n",
       "       [3, 5, 1, 3, 4, 3, 7, 6, 3, 6],\n",
       "       [6, 2, 4, 7, 3, 5, 1, 3, 0, 0],\n",
       "       [4, 5, 0, 5, 1, 3, 0, 6, 2, 4],\n",
       "       [3, 4, 0, 5, 6, 5, 4, 4, 3, 6]])"
      ]
     },
     "execution_count": 166,
     "metadata": {},
     "output_type": "execute_result"
    }
   ],
   "source": [
    "a"
   ]
  },
  {
   "cell_type": "code",
   "execution_count": 167,
   "metadata": {},
   "outputs": [
    {
     "name": "stdout",
     "output_type": "stream",
     "text": [
      "True\n"
     ]
    }
   ],
   "source": [
    "size = a.shape[0]\n",
    "aa = do_task(a)\n",
    "\n",
    "res = a\n",
    "for i in range(size-1):\n",
    "    res = np.dot(res, a)\n",
    "res = matix2Z(res, Z=9)\n",
    "\n",
    "print(np.array_equal(aa, res))"
   ]
  },
  {
   "cell_type": "code",
   "execution_count": 168,
   "metadata": {},
   "outputs": [
    {
     "name": "stdout",
     "output_type": "stream",
     "text": [
      "0 1 1 2 3 4 5 7 7 4\n",
      "3 6 0 5 7 4 3 1 6 7\n",
      "7 5 5 4 7 4 3 4 5 7\n",
      "4 4 7 7 5 4 3 3 2 1\n",
      "4 5 0 1 6 7 0 5 1 3\n",
      "2 2 4 0 4 5 2 5 7 0\n",
      "3 5 1 3 4 3 7 6 3 6\n",
      "6 2 4 7 3 5 1 3 0 0\n",
      "4 5 0 5 1 3 0 6 2 4\n",
      "3 4 0 5 6 5 4 4 3 6\n",
      "\n",
      "0 8 8 1 6 4 8 1 8 7\n",
      "6 5 3 7 0 6 6 4 2 1\n",
      "5 7 7 2 1 0 5 0 4 6\n",
      "8 1 6 7 7 6 6 0 1 3\n",
      "3 7 0 6 1 8 2 7 0 8\n",
      "0 8 0 0 8 5 4 4 7 6\n",
      "1 8 7 7 8 4 7 5 3 1\n",
      "6 8 1 5 5 4 8 7 4 0\n",
      "0 1 1 3 7 4 2 0 8 4\n",
      "2 4 1 8 2 2 3 6 8 6\n",
      "\n",
      "0 8 8 1 6 4 8 1 8 7\n",
      "6 5 3 7 0 6 6 4 2 1\n",
      "5 7 7 2 1 0 5 0 4 6\n",
      "8 1 6 7 7 6 6 0 1 3\n",
      "3 7 0 6 1 8 2 7 0 8\n",
      "0 8 0 0 8 5 4 4 7 6\n",
      "1 8 7 7 8 4 7 5 3 1\n",
      "6 8 1 5 5 4 8 7 4 0\n",
      "0 1 1 3 7 4 2 0 8 4\n",
      "2 4 1 8 2 2 3 6 8 6\n"
     ]
    }
   ],
   "source": [
    "print_matrix(a)\n",
    "print()\n",
    "print_matrix(aa)\n",
    "print()\n",
    "print_matrix(res)"
   ]
  },
  {
   "cell_type": "code",
   "execution_count": 156,
   "metadata": {},
   "outputs": [
    {
     "name": "stdout",
     "output_type": "stream",
     "text": [
      "True\n",
      "CPU times: user 12.4 ms, sys: 1.35 ms, total: 13.8 ms\n",
      "Wall time: 13.3 ms\n"
     ]
    }
   ],
   "source": [
    "%%time\n",
    "size = 10\n",
    "a = np.random.randint(0, 8, size=size*size).reshape((size, size))\n",
    "aa = do_task(a)\n",
    "\n",
    "res = a\n",
    "for i in range(size-1):\n",
    "    res = np.dot(res, a)\n",
    "res = matix2Z(res, Z=9)\n",
    "\n",
    "print(np.array_equal(aa, res))"
   ]
  },
  {
   "cell_type": "code",
   "execution_count": 157,
   "metadata": {},
   "outputs": [
    {
     "name": "stdout",
     "output_type": "stream",
     "text": [
      "0 1 1 2 3 4 5 7 7 4\n",
      "3 6 0 5 7 4 3 1 6 7\n",
      "7 5 5 4 7 4 3 4 5 7\n",
      "4 4 7 7 5 4 3 3 2 1\n",
      "4 5 0 1 6 7 0 5 1 3\n",
      "2 2 4 0 4 5 2 5 7 0\n",
      "3 5 1 3 4 3 7 6 3 6\n",
      "6 2 4 7 3 5 1 3 0 0\n",
      "4 5 0 5 1 3 0 6 2 4\n",
      "3 4 0 5 6 5 4 4 3 6\n",
      "\n",
      "0 8 8 1 6 4 8 1 8 7\n",
      "6 5 3 7 0 6 6 4 2 1\n",
      "5 7 7 2 1 0 5 0 4 6\n",
      "8 1 6 7 7 6 6 0 1 3\n",
      "3 7 0 6 1 8 2 7 0 8\n",
      "0 8 0 0 8 5 4 4 7 6\n",
      "1 8 7 7 8 4 7 5 3 1\n",
      "6 8 1 5 5 4 8 7 4 0\n",
      "0 1 1 3 7 4 2 0 8 4\n",
      "2 4 1 8 2 2 3 6 8 6\n",
      "\n",
      "0 8 8 1 6 4 8 1 8 7\n",
      "6 5 3 7 0 6 6 4 2 1\n",
      "5 7 7 2 1 0 5 0 4 6\n",
      "8 1 6 7 7 6 6 0 1 3\n",
      "3 7 0 6 1 8 2 7 0 8\n",
      "0 8 0 0 8 5 4 4 7 6\n",
      "1 8 7 7 8 4 7 5 3 1\n",
      "6 8 1 5 5 4 8 7 4 0\n",
      "0 1 1 3 7 4 2 0 8 4\n",
      "2 4 1 8 2 2 3 6 8 6\n"
     ]
    }
   ],
   "source": [
    "print_matrix(a)\n",
    "print()\n",
    "print_matrix(aa)\n",
    "print()\n",
    "print_matrix(res)"
   ]
  },
  {
   "cell_type": "code",
   "execution_count": 77,
   "metadata": {},
   "outputs": [
    {
     "data": {
      "text/plain": [
       "True"
      ]
     },
     "execution_count": 77,
     "metadata": {},
     "output_type": "execute_result"
    }
   ],
   "source": [
    "np.array_equal(strassen(aa, bb), np.dot(aa, bb))"
   ]
  },
  {
   "cell_type": "code",
   "execution_count": null,
   "metadata": {
    "collapsed": true
   },
   "outputs": [],
   "source": []
  },
  {
   "cell_type": "code",
   "execution_count": null,
   "metadata": {
    "collapsed": true
   },
   "outputs": [],
   "source": []
  }
 ],
 "metadata": {
  "kernelspec": {
   "display_name": "Python 3",
   "language": "python",
   "name": "python3"
  },
  "language_info": {
   "codemirror_mode": {
    "name": "ipython",
    "version": 3
   },
   "file_extension": ".py",
   "mimetype": "text/x-python",
   "name": "python",
   "nbconvert_exporter": "python",
   "pygments_lexer": "ipython3",
   "version": "3.6.3"
  }
 },
 "nbformat": 4,
 "nbformat_minor": 2
}
